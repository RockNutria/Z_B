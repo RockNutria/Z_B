{
 "cells": [
  {
   "cell_type": "code",
   "execution_count": 15,
   "id": "214d4a62-3093-430c-8201-13dc70aafb51",
   "metadata": {},
   "outputs": [],
   "source": [
    "seconds = 1\n",
    "minutes = seconds * 60\n",
    "hours = minutes * 60"
   ]
  },
  {
   "cell_type": "code",
   "execution_count": 16,
   "id": "c9a5433a-0fd9-44bb-901e-afd8f6f135ae",
   "metadata": {},
   "outputs": [
    {
     "name": "stdout",
     "output_type": "stream",
     "text": [
      "72000 seconds\n"
     ]
    }
   ],
   "source": [
    "seconds = 1\n",
    "minutes = seconds * 60\n",
    "hours = minutes * 60\n",
    "seconds_per_hour = hours * 20\n",
    "print (seconds_per_hour, \"seconds\")"
   ]
  },
  {
   "cell_type": "code",
   "execution_count": 17,
   "id": "3e17b0ef-8669-4736-89dc-f0fa64d36472",
   "metadata": {},
   "outputs": [],
   "source": [
    "seconds = 1\n",
    "minutes = seconds * 60\n",
    "hours = minutes * 60\n",
    "seconds_per_hour = hours * 20\n",
    "days = hours * 24"
   ]
  },
  {
   "cell_type": "code",
   "execution_count": 18,
   "id": "08bc3cf8-4019-4115-b981-444894d07de5",
   "metadata": {},
   "outputs": [
    {
     "name": "stdout",
     "output_type": "stream",
     "text": [
      "1728000 seconds\n"
     ]
    }
   ],
   "source": [
    "seconds = 1\n",
    "minutes = seconds * 60\n",
    "hours = minutes * 60\n",
    "seconds_per_hour = hours * 20\n",
    "days = hours * 24\n",
    "seconds_per_day = days * 20\n",
    "print (seconds_per_day, \"seconds\")"
   ]
  },
  {
   "cell_type": "code",
   "execution_count": 19,
   "id": "81c6c861-7d01-4825-acd6-216a8c4cc0f7",
   "metadata": {},
   "outputs": [
    {
     "name": "stdout",
     "output_type": "stream",
     "text": [
      "1728000 seconds\n",
      "24.0\n"
     ]
    }
   ],
   "source": [
    "seconds = 1\n",
    "minutes = seconds * 60\n",
    "hours = minutes * 60\n",
    "seconds_per_hour = hours * 20\n",
    "days = hours * 24\n",
    "seconds_per_day = days * 20\n",
    "print (seconds_per_day, \"seconds\")\n",
    "floating_point_result = seconds_per_day / seconds_per_hour\n",
    "print(floating_point_result)\n"
   ]
  },
  {
   "cell_type": "code",
   "execution_count": 20,
   "id": "567b5e37-d25e-4ff5-99c2-808ee211c114",
   "metadata": {},
   "outputs": [
    {
     "name": "stdout",
     "output_type": "stream",
     "text": [
      "1728000 seconds\n",
      "24\n"
     ]
    }
   ],
   "source": [
    "seconds = 1\n",
    "minutes = seconds * 60\n",
    "hours = minutes * 60\n",
    "seconds_per_hour = hours * 20\n",
    "days = hours * 24\n",
    "seconds_per_day = days * 20\n",
    "print (seconds_per_day, \"seconds\")\n",
    "integer_result = seconds_per_day // seconds_per_hour\n",
    "print(integer_result)"
   ]
  },
  {
   "cell_type": "code",
   "execution_count": null,
   "id": "01834151-9add-49ad-a179-02cc6ea50f85",
   "metadata": {},
   "outputs": [],
   "source": []
  }
 ],
 "metadata": {
  "kernelspec": {
   "display_name": "Python 3 (ipykernel)",
   "language": "python",
   "name": "python3"
  },
  "language_info": {
   "codemirror_mode": {
    "name": "ipython",
    "version": 3
   },
   "file_extension": ".py",
   "mimetype": "text/x-python",
   "name": "python",
   "nbconvert_exporter": "python",
   "pygments_lexer": "ipython3",
   "version": "3.11.7"
  }
 },
 "nbformat": 4,
 "nbformat_minor": 5
}
